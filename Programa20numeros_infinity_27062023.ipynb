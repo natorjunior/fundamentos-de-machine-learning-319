{
  "nbformat": 4,
  "nbformat_minor": 0,
  "metadata": {
    "colab": {
      "provenance": [],
      "authorship_tag": "ABX9TyNQQvHGPLaoqC7XBiFhxGBc",
      "include_colab_link": true
    },
    "kernelspec": {
      "name": "python3",
      "display_name": "Python 3"
    },
    "language_info": {
      "name": "python"
    }
  },
  "cells": [
    {
      "cell_type": "markdown",
      "metadata": {
        "id": "view-in-github",
        "colab_type": "text"
      },
      "source": [
        "<a href=\"https://colab.research.google.com/github/natorjunior/turma-319/blob/main/Programa20numeros_infinity_27062023.ipynb\" target=\"_parent\"><img src=\"https://colab.research.google.com/assets/colab-badge.svg\" alt=\"Open In Colab\"/></a>"
      ]
    },
    {
      "cell_type": "code",
      "execution_count": 1,
      "metadata": {
        "colab": {
          "base_uri": "https://localhost:8080/"
        },
        "id": "nkvt5ETn84pR",
        "outputId": "f81ac571-ebc4-4659-8042-8cecf892d129"
      },
      "outputs": [
        {
          "output_type": "stream",
          "name": "stdout",
          "text": [
            "Digite um número inteiro: 1\n",
            "Digite um número inteiro: 20\n",
            "Digite um número inteiro: 30\n",
            "Digite um número inteiro: 40\n",
            "Digite um número inteiro: 50\n",
            "Digite um número inteiro: 60\n",
            "Digite um número inteiro: 2\n",
            "Digite um número inteiro: 3\n",
            "Digite um número inteiro: 4\n",
            "Digite um número inteiro: 5\n",
            "Digite um número inteiro: 6\n",
            "Digite um número inteiro: 7\n",
            "Digite um número inteiro: 8\n",
            "Digite um número inteiro: 9\n",
            "Digite um número inteiro: 10\n",
            "Digite um número inteiro: 11\n",
            "Digite um número inteiro: 12\n",
            "Digite um número inteiro: 13\n",
            "Digite um número inteiro: 14\n",
            "Digite um número inteiro: 15\n",
            "Vetor completo: [1, 20, 30, 40, 50, 60, 2, 3, 4, 5, 6, 7, 8, 9, 10, 11, 12, 13, 14, 15]\n",
            "Vetor PAR: [20, 30, 40, 50, 60, 2, 4, 6, 8, 10, 12, 14]\n",
            "Vetor ímpar: [1, 3, 5, 7, 9, 11, 13, 15]\n"
          ]
        }
      ],
      "source": [
        "numeros = []\n",
        "par = []\n",
        "impar = []\n",
        "\n",
        "for i in range(20):\n",
        "    numero = int(input(\"Digite um número inteiro: \"))\n",
        "    numeros.append(numero)\n",
        "\n",
        "    if numero % 2 == 0:\n",
        "        par.append(numero)\n",
        "    else:\n",
        "        impar.append(numero)\n",
        "\n",
        "print(\"Vetor completo:\", numeros)\n",
        "print(\"Vetor PAR:\", par)\n",
        "print(\"Vetor ímpar:\", impar)3"
      ]
    }
  ]
}