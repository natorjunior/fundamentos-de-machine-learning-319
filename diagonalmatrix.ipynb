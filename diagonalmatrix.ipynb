{
  "nbformat": 4,
  "nbformat_minor": 0,
  "metadata": {
    "colab": {
      "provenance": [],
      "authorship_tag": "ABX9TyPAd0i3IVWaqx/GHYZOolOF",
      "include_colab_link": true
    },
    "kernelspec": {
      "name": "python3",
      "display_name": "Python 3"
    },
    "language_info": {
      "name": "python"
    }
  },
  "cells": [
    {
      "cell_type": "markdown",
      "metadata": {
        "id": "view-in-github",
        "colab_type": "text"
      },
      "source": [
        "<a href=\"https://colab.research.google.com/github/natorjunior/turma-319/blob/thiago-ferreira/diagonalmatrix.ipynb\" target=\"_parent\"><img src=\"https://colab.research.google.com/assets/colab-badge.svg\" alt=\"Open In Colab\"/></a>"
      ]
    },
    {
      "cell_type": "code",
      "execution_count": 1,
      "metadata": {
        "id": "WwxoUUfeJrJx"
      },
      "outputs": [],
      "source": [
        "import numpy as np"
      ]
    },
    {
      "cell_type": "code",
      "source": [
        "matriz = np.zeros((18,18), dtype=int)\n",
        "matriz\n",
        "\n"
      ],
      "metadata": {
        "colab": {
          "base_uri": "https://localhost:8080/"
        },
        "id": "VYzRGBdlJr6Y",
        "outputId": "713d3f9b-2c23-42e4-c8d4-83dad233c013"
      },
      "execution_count": 36,
      "outputs": [
        {
          "output_type": "execute_result",
          "data": {
            "text/plain": [
              "array([[0, 0, 0, 0, 0, 0, 0, 0, 0, 0, 0, 0, 0, 0, 0, 0, 0, 0],\n",
              "       [0, 0, 0, 0, 0, 0, 0, 0, 0, 0, 0, 0, 0, 0, 0, 0, 0, 0],\n",
              "       [0, 0, 0, 0, 0, 0, 0, 0, 0, 0, 0, 0, 0, 0, 0, 0, 0, 0],\n",
              "       [0, 0, 0, 0, 0, 0, 0, 0, 0, 0, 0, 0, 0, 0, 0, 0, 0, 0],\n",
              "       [0, 0, 0, 0, 0, 0, 0, 0, 0, 0, 0, 0, 0, 0, 0, 0, 0, 0],\n",
              "       [0, 0, 0, 0, 0, 0, 0, 0, 0, 0, 0, 0, 0, 0, 0, 0, 0, 0],\n",
              "       [0, 0, 0, 0, 0, 0, 0, 0, 0, 0, 0, 0, 0, 0, 0, 0, 0, 0],\n",
              "       [0, 0, 0, 0, 0, 0, 0, 0, 0, 0, 0, 0, 0, 0, 0, 0, 0, 0],\n",
              "       [0, 0, 0, 0, 0, 0, 0, 0, 0, 0, 0, 0, 0, 0, 0, 0, 0, 0],\n",
              "       [0, 0, 0, 0, 0, 0, 0, 0, 0, 0, 0, 0, 0, 0, 0, 0, 0, 0],\n",
              "       [0, 0, 0, 0, 0, 0, 0, 0, 0, 0, 0, 0, 0, 0, 0, 0, 0, 0],\n",
              "       [0, 0, 0, 0, 0, 0, 0, 0, 0, 0, 0, 0, 0, 0, 0, 0, 0, 0],\n",
              "       [0, 0, 0, 0, 0, 0, 0, 0, 0, 0, 0, 0, 0, 0, 0, 0, 0, 0],\n",
              "       [0, 0, 0, 0, 0, 0, 0, 0, 0, 0, 0, 0, 0, 0, 0, 0, 0, 0],\n",
              "       [0, 0, 0, 0, 0, 0, 0, 0, 0, 0, 0, 0, 0, 0, 0, 0, 0, 0],\n",
              "       [0, 0, 0, 0, 0, 0, 0, 0, 0, 0, 0, 0, 0, 0, 0, 0, 0, 0],\n",
              "       [0, 0, 0, 0, 0, 0, 0, 0, 0, 0, 0, 0, 0, 0, 0, 0, 0, 0],\n",
              "       [0, 0, 0, 0, 0, 0, 0, 0, 0, 0, 0, 0, 0, 0, 0, 0, 0, 0]])"
            ]
          },
          "metadata": {},
          "execution_count": 36
        }
      ]
    },
    {
      "cell_type": "code",
      "source": [
        "for i in range (18):\n",
        "  matriz[i,i]=255\n",
        "  matriz[i,-i-1]=255"
      ],
      "metadata": {
        "id": "Am9vtPHrJr-n"
      },
      "execution_count": 41,
      "outputs": []
    },
    {
      "cell_type": "code",
      "source": [
        "print (matriz)"
      ],
      "metadata": {
        "colab": {
          "base_uri": "https://localhost:8080/"
        },
        "id": "dJxzAJrAJsBv",
        "outputId": "192195e3-22f4-4ddb-eca9-50bdd5fa6a87"
      },
      "execution_count": 42,
      "outputs": [
        {
          "output_type": "stream",
          "name": "stdout",
          "text": [
            "[[255   0   0   0   0   0   0   0   0   0   0   0   0   0   0   0   0 255]\n",
            " [  0 255   0   0   0   0   0   0   0   0   0   0   0   0   0   0 255   0]\n",
            " [  0   0 255   0   0   0   0   0   0   0   0   0   0   0   0 255   0   0]\n",
            " [  0   0   0 255   0   0   0   0   0   0   0   0   0   0 255   0   0   0]\n",
            " [  0   0   0   0 255   0   0   0   0   0   0   0   0 255   0   0   0   0]\n",
            " [  0   0   0   0   0 255   0   0   0   0   0   0 255   0   0   0   0   0]\n",
            " [  0   0   0   0   0   0 255   0   0   0   0 255   0   0   0   0   0   0]\n",
            " [  0   0   0   0   0   0   0 255   0   0 255   0   0   0   0   0   0   0]\n",
            " [  0   0   0   0   0   0   0   0 255 255   0   0   0   0   0   0   0   0]\n",
            " [  0   0   0   0   0   0   0   0 255 255   0   0   0   0   0   0   0   0]\n",
            " [  0   0   0   0   0   0   0 255   0   0 255   0   0   0   0   0   0   0]\n",
            " [  0   0   0   0   0   0 255   0   0   0   0 255   0   0   0   0   0   0]\n",
            " [  0   0   0   0   0 255   0   0   0   0   0   0 255   0   0   0   0   0]\n",
            " [  0   0   0   0 255   0   0   0   0   0   0   0   0 255   0   0   0   0]\n",
            " [  0   0   0 255   0   0   0   0   0   0   0   0   0   0 255   0   0   0]\n",
            " [  0   0 255   0   0   0   0   0   0   0   0   0   0   0   0 255   0   0]\n",
            " [  0 255   0   0   0   0   0   0   0   0   0   0   0   0   0   0 255   0]\n",
            " [255   0   0   0   0   0   0   0   0   0   0   0   0   0   0   0   0 255]]\n"
          ]
        }
      ]
    },
    {
      "cell_type": "code",
      "source": [
        "import cv2\n",
        "cv2.imwrite(\"diagonal_matrix.png\", matriz)\n"
      ],
      "metadata": {
        "colab": {
          "base_uri": "https://localhost:8080/"
        },
        "id": "1OMBEblQJsEX",
        "outputId": "5682bf47-eaee-45c5-e3b1-c39e016b8906"
      },
      "execution_count": 45,
      "outputs": [
        {
          "output_type": "execute_result",
          "data": {
            "text/plain": [
              "True"
            ]
          },
          "metadata": {},
          "execution_count": 45
        }
      ]
    },
    {
      "cell_type": "code",
      "source": [],
      "metadata": {
        "id": "SHLt7UV8JsHY"
      },
      "execution_count": null,
      "outputs": []
    },
    {
      "cell_type": "code",
      "source": [],
      "metadata": {
        "id": "2X2-QPNJJsKg"
      },
      "execution_count": null,
      "outputs": []
    },
    {
      "cell_type": "code",
      "source": [],
      "metadata": {
        "id": "nzdTWHGIJsOJ"
      },
      "execution_count": null,
      "outputs": []
    },
    {
      "cell_type": "code",
      "source": [],
      "metadata": {
        "id": "DtLXwVOKJsUI"
      },
      "execution_count": null,
      "outputs": []
    }
  ]
}