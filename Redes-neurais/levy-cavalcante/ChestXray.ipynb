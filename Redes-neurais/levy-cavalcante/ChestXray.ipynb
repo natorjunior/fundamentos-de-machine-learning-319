{
 "cells": [
  {
   "cell_type": "markdown",
   "id": "230cd3fc",
   "metadata": {},
   "source": [
    "### Chest Xray"
   ]
  },
  {
   "cell_type": "code",
   "execution_count": 3,
   "id": "94202f10",
   "metadata": {},
   "outputs": [],
   "source": [
    "import os\n",
    "import glob\n",
    "from tqdm.notebook import tqdm\n",
    "import numpy as np"
   ]
  },
  {
   "cell_type": "code",
   "execution_count": 4,
   "id": "614e16bb",
   "metadata": {},
   "outputs": [],
   "source": [
    "import cv2"
   ]
  },
  {
   "cell_type": "code",
   "execution_count": 5,
   "id": "e83852db",
   "metadata": {
    "scrolled": true
   },
   "outputs": [],
   "source": [
    "treinonormal= list(os.listdir('train/NORMAL'))"
   ]
  },
  {
   "cell_type": "code",
   "execution_count": 6,
   "id": "894fee28",
   "metadata": {},
   "outputs": [],
   "source": [
    "treinopneu= list(os.listdir('train/PNEUMONIA'))"
   ]
  },
  {
   "cell_type": "code",
   "execution_count": 7,
   "id": "349e7b64",
   "metadata": {},
   "outputs": [],
   "source": [
    "testenormal=list((os.listdir('test/NORMAL')))"
   ]
  },
  {
   "cell_type": "code",
   "execution_count": 8,
   "id": "0ed6d799",
   "metadata": {},
   "outputs": [],
   "source": [
    "testepneu=list((os.listdir('test/PNEUMONIA')))"
   ]
  },
  {
   "cell_type": "code",
   "execution_count": 9,
   "id": "1a6bbeaa",
   "metadata": {},
   "outputs": [],
   "source": [
    "x_train = []\n",
    "y_train = []\n",
    "x_test = []\n",
    "y_test = []"
   ]
  },
  {
   "cell_type": "code",
   "execution_count": 10,
   "id": "f84b66c5",
   "metadata": {},
   "outputs": [],
   "source": [
    "for im in treinopneu:\n",
    "    nome_arquivo = 'train/PNEUMONIA/'+im\n",
    "    img =  cv2.imread(nome_arquivo, cv2.IMREAD_GRAYSCALE)\n",
    "    resized_image = cv2.resize(img, (128, 128))\n",
    "    resized_image = resized_image/255\n",
    "    x_train.append(resized_image)\n",
    "    y_train.append(1)"
   ]
  },
  {
   "cell_type": "code",
   "execution_count": 11,
   "id": "2d6c5ec4",
   "metadata": {},
   "outputs": [],
   "source": [
    "for im in treinonormal:\n",
    "    nome_arquivo = 'train/NORMAL/'+im\n",
    "    img =  cv2.imread(nome_arquivo, cv2.IMREAD_GRAYSCALE)\n",
    "    resized_image = cv2.resize(img, (128, 128))\n",
    "    resized_image = resized_image/255\n",
    "    x_train.append(resized_image)\n",
    "    y_train.append(0)"
   ]
  },
  {
   "cell_type": "code",
   "execution_count": 12,
   "id": "31a0e54c",
   "metadata": {},
   "outputs": [],
   "source": [
    "for im in testenormal:\n",
    "    nome_arquivo = 'test/NORMAL/'+im\n",
    "    img =  cv2.imread(nome_arquivo, cv2.IMREAD_GRAYSCALE)\n",
    "    resized_image = cv2.resize(img, (128, 128))\n",
    "    resized_image = resized_image/255\n",
    "    x_test.append(resized_image)\n",
    "    y_test.append(0)"
   ]
  },
  {
   "cell_type": "code",
   "execution_count": 13,
   "id": "7be4d3a8",
   "metadata": {},
   "outputs": [],
   "source": [
    "for im in testepneu:\n",
    "    nome_arquivo = 'test/PNEUMONIA/'+im\n",
    "    img =  cv2.imread(nome_arquivo, cv2.IMREAD_GRAYSCALE)\n",
    "    resized_image = cv2.resize(img, (128, 128))\n",
    "    resized_image = resized_image/255\n",
    "    x_test.append(resized_image)\n",
    "    y_test.append(1)"
   ]
  },
  {
   "cell_type": "code",
   "execution_count": 14,
   "id": "2ad303fd",
   "metadata": {},
   "outputs": [],
   "source": [
    "import tensorflow as tf\n",
    "from tensorflow.keras import layers\n",
    "from tensorflow.keras.models import Sequential\n"
   ]
  },
  {
   "cell_type": "code",
   "execution_count": 15,
   "id": "b45fe39a",
   "metadata": {},
   "outputs": [],
   "source": [
    "model = Sequential()"
   ]
  },
  {
   "cell_type": "code",
   "execution_count": 16,
   "id": "235690c4",
   "metadata": {},
   "outputs": [],
   "source": [
    "model.add(layers.Conv2D(32, (3, 3), activation='relu', input_shape=(128, 128, 1)))\n",
    "model.add(layers.MaxPooling2D((2, 2)))\n",
    "model.add(layers.Conv2D(64, (3, 3), activation='relu'))\n",
    "model.add(layers.MaxPooling2D((2, 2)))\n",
    "model.add(layers.Conv2D(64, (3, 3), activation='relu'))\n",
    "model.add(layers.Flatten())\n",
    "model.add(layers.Dense(64, activation='relu'))\n",
    "model.add(layers.Dense(1, activation='sigmoid'))"
   ]
  },
  {
   "cell_type": "code",
   "execution_count": 17,
   "id": "09f955ee",
   "metadata": {},
   "outputs": [],
   "source": [
    "# Compilar o modelo\n",
    "model.compile(optimizer='adam',\n",
    "             loss='binary_crossentropy',\n",
    "             metrics=['accuracy'])"
   ]
  },
  {
   "cell_type": "code",
   "execution_count": 18,
   "id": "2baee652",
   "metadata": {},
   "outputs": [
    {
     "name": "stdout",
     "output_type": "stream",
     "text": [
      "Model: \"sequential\"\n",
      "_________________________________________________________________\n",
      " Layer (type)                Output Shape              Param #   \n",
      "=================================================================\n",
      " conv2d (Conv2D)             (None, 126, 126, 32)      320       \n",
      "                                                                 \n",
      " max_pooling2d (MaxPooling2D  (None, 63, 63, 32)       0         \n",
      " )                                                               \n",
      "                                                                 \n",
      " conv2d_1 (Conv2D)           (None, 61, 61, 64)        18496     \n",
      "                                                                 \n",
      " max_pooling2d_1 (MaxPooling  (None, 30, 30, 64)       0         \n",
      " 2D)                                                             \n",
      "                                                                 \n",
      " conv2d_2 (Conv2D)           (None, 28, 28, 64)        36928     \n",
      "                                                                 \n",
      " flatten (Flatten)           (None, 50176)             0         \n",
      "                                                                 \n",
      " dense (Dense)               (None, 64)                3211328   \n",
      "                                                                 \n",
      " dense_1 (Dense)             (None, 1)                 65        \n",
      "                                                                 \n",
      "=================================================================\n",
      "Total params: 3,267,137\n",
      "Trainable params: 3,267,137\n",
      "Non-trainable params: 0\n",
      "_________________________________________________________________\n"
     ]
    }
   ],
   "source": [
    "model.summary()"
   ]
  },
  {
   "cell_type": "code",
   "execution_count": 20,
   "id": "4681413f",
   "metadata": {},
   "outputs": [
    {
     "name": "stdout",
     "output_type": "stream",
     "text": [
      "Epoch 1/5\n",
      "164/164 [==============================] - 59s 358ms/step - loss: 0.2166 - accuracy: 0.9067\n",
      "Epoch 2/5\n",
      "164/164 [==============================] - 60s 364ms/step - loss: 0.0954 - accuracy: 0.9641\n",
      "Epoch 3/5\n",
      "164/164 [==============================] - 58s 352ms/step - loss: 0.0822 - accuracy: 0.9698\n",
      "Epoch 4/5\n",
      "164/164 [==============================] - 58s 354ms/step - loss: 0.0594 - accuracy: 0.9774\n",
      "Epoch 5/5\n",
      "164/164 [==============================] - 59s 359ms/step - loss: 0.0573 - accuracy: 0.9780\n"
     ]
    },
    {
     "data": {
      "text/plain": [
       "<keras.callbacks.History at 0x23f80170370>"
      ]
     },
     "execution_count": 20,
     "metadata": {},
     "output_type": "execute_result"
    }
   ],
   "source": [
    "# Treinar o modelo\n",
    "model.fit(np.array(x_train), np.array(y_train), epochs=5)"
   ]
  },
  {
   "cell_type": "code",
   "execution_count": 21,
   "id": "0de2efba",
   "metadata": {},
   "outputs": [
    {
     "name": "stdout",
     "output_type": "stream",
     "text": [
      "20/20 [==============================] - 2s 97ms/step\n"
     ]
    }
   ],
   "source": [
    "y_pred = model.predict(np.array(x_test))"
   ]
  },
  {
   "cell_type": "code",
   "execution_count": 26,
   "id": "1ec0b4cb",
   "metadata": {},
   "outputs": [],
   "source": [
    "y_test = np.array(y_test)"
   ]
  },
  {
   "cell_type": "code",
   "execution_count": 27,
   "id": "c4382896",
   "metadata": {},
   "outputs": [],
   "source": [
    "# Converter as previsões para classes binárias (0 ou 1)\n",
    "y_pred_classes = np.round(y_pred).astype(int)\n",
    "\n",
    "# Converter os rótulos de teste para classes binárias\n",
    "y_test_classes = y_test.astype(int)  # y_test são seus rótulos de teste"
   ]
  },
  {
   "cell_type": "code",
   "execution_count": 30,
   "id": "af9b2730",
   "metadata": {},
   "outputs": [],
   "source": [
    "from sklearn.metrics import accuracy_score\n",
    "from sklearn.metrics import f1_score\n",
    "from sklearn.metrics import recall_score\n",
    "from sklearn.metrics import precision_score\n",
    "from sklearn.metrics import confusion_matrix"
   ]
  },
  {
   "cell_type": "code",
   "execution_count": 28,
   "id": "73974502",
   "metadata": {},
   "outputs": [],
   "source": [
    "accuracy = accuracy_score(y_test_classes, y_pred_classes)\n",
    "precision = precision_score(y_test_classes, y_pred_classes)\n",
    "recall = recall_score(y_test_classes, y_pred_classes)\n",
    "f1 = f1_score(y_test_classes, y_pred_classes)"
   ]
  },
  {
   "cell_type": "code",
   "execution_count": 31,
   "id": "eae12d41",
   "metadata": {},
   "outputs": [
    {
     "name": "stdout",
     "output_type": "stream",
     "text": [
      "Acurácia: 0.80\n",
      "Precisão: 0.76\n",
      "Recall: 0.99\n",
      "F1-score: 0.86\n",
      "Matriz de Confusão:\n",
      "[[113 121]\n",
      " [  5 385]]\n"
     ]
    }
   ],
   "source": [
    "# Calcular a matriz de confusão\n",
    "confusion_matrix = confusion_matrix(y_test_classes, y_pred_classes)\n",
    "\n",
    "# Imprimir as métricas e a matriz de confusão\n",
    "print(\"Acurácia: {:.2f}\".format(accuracy))\n",
    "print(\"Precisão: {:.2f}\".format(precision))\n",
    "print(\"Recall: {:.2f}\".format(recall))\n",
    "print(\"F1-score: {:.2f}\".format(f1))\n",
    "print(\"Matriz de Confusão:\")\n",
    "print(confusion_matrix)"
   ]
  }
 ],
 "metadata": {
  "kernelspec": {
   "display_name": "Python 3 (ipykernel)",
   "language": "python",
   "name": "python3"
  },
  "language_info": {
   "codemirror_mode": {
    "name": "ipython",
    "version": 3
   },
   "file_extension": ".py",
   "mimetype": "text/x-python",
   "name": "python",
   "nbconvert_exporter": "python",
   "pygments_lexer": "ipython3",
   "version": "3.9.13"
  }
 },
 "nbformat": 4,
 "nbformat_minor": 5
}
