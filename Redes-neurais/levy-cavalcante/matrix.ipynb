{
 "cells": [
  {
   "cell_type": "code",
   "execution_count": 1,
   "id": "62a6856f",
   "metadata": {},
   "outputs": [],
   "source": [
    "import numpy as np"
   ]
  },
  {
   "cell_type": "code",
   "execution_count": null,
   "id": "a2d5d3f9",
   "metadata": {},
   "outputs": [],
   "source": [
    "matriz = (20,20)"
   ]
  },
  {
   "cell_type": "code",
   "execution_count": 4,
   "id": "8e9df850",
   "metadata": {},
   "outputs": [
    {
     "name": "stdout",
     "output_type": "stream",
     "text": [
      "[[0 0 0 0 0 0 0 0 0 0 0 0 0 0 0 0 0 0 0 0]\n",
      " [0 0 0 0 0 0 0 0 0 0 0 0 0 0 0 0 0 0 0 0]\n",
      " [0 0 0 0 0 0 0 0 0 0 0 0 0 0 0 0 0 0 0 0]\n",
      " [0 0 0 0 0 0 0 0 0 0 0 0 0 0 0 0 0 0 0 0]\n",
      " [0 0 0 0 0 0 0 0 0 0 0 0 0 0 0 0 0 0 0 0]\n",
      " [0 0 0 0 0 0 0 0 0 0 0 0 0 0 0 0 0 0 0 0]\n",
      " [0 0 0 0 0 0 0 0 0 0 0 0 0 0 0 0 0 0 0 0]\n",
      " [0 0 0 0 0 0 0 0 0 0 0 0 0 0 0 0 0 0 0 0]\n",
      " [0 0 0 0 0 0 0 0 0 0 0 0 0 0 0 0 0 0 0 0]\n",
      " [0 0 0 0 0 0 0 0 0 0 0 0 0 0 0 0 0 0 0 0]\n",
      " [0 0 0 0 0 0 0 0 0 0 0 0 0 0 0 0 0 0 0 0]\n",
      " [0 0 0 0 0 0 0 0 0 0 0 0 0 0 0 0 0 0 0 0]\n",
      " [0 0 0 0 0 0 0 0 0 0 0 0 0 0 0 0 0 0 0 0]\n",
      " [0 0 0 0 0 0 0 0 0 0 0 0 0 0 0 0 0 0 0 0]\n",
      " [0 0 0 0 0 0 0 0 0 0 0 0 0 0 0 0 0 0 0 0]\n",
      " [0 0 0 0 0 0 0 0 0 0 0 0 0 0 0 0 0 0 0 0]\n",
      " [0 0 0 0 0 0 0 0 0 0 0 0 0 0 0 0 0 0 0 0]\n",
      " [0 0 0 0 0 0 0 0 0 0 0 0 0 0 0 0 0 0 0 0]\n",
      " [0 0 0 0 0 0 0 0 0 0 0 0 0 0 0 0 0 0 0 0]\n",
      " [0 0 0 0 0 0 0 0 0 0 0 0 0 0 0 0 0 0 0 0]]\n"
     ]
    }
   ],
   "source": [
    "matriz = np.zeros((20,20),dtype=int)\n",
    "print(matriz)"
   ]
  },
  {
   "cell_type": "code",
   "execution_count": 8,
   "id": "43d657f9",
   "metadata": {},
   "outputs": [],
   "source": [
    "for i in range(20):\n",
    "    matriz[i,i]=255\n",
    "\n",
    "    "
   ]
  },
  {
   "cell_type": "code",
   "execution_count": 16,
   "id": "61c51e75",
   "metadata": {},
   "outputs": [],
   "source": [
    "for j in range(20):\n",
    "    matriz[j,-j]= 255"
   ]
  },
  {
   "cell_type": "code",
   "execution_count": 18,
   "id": "6744f30d",
   "metadata": {
    "scrolled": true
   },
   "outputs": [
    {
     "name": "stdout",
     "output_type": "stream",
     "text": [
      "[[255   0   0   0   0   0   0   0   0   0   0   0   0   0   0   0   0   0\n",
      "    0   0]\n",
      " [  0 255   0   0   0   0   0   0   0   0   0   0   0   0   0   0   0   0\n",
      "    0 255]\n",
      " [  0   0 255   0   0   0   0   0   0   0   0   0   0   0   0   0   0   0\n",
      "  255   0]\n",
      " [  0   0   0 255   0   0   0   0   0   0   0   0   0   0   0   0   0 255\n",
      "    0   0]\n",
      " [  0   0   0   0 255   0   0   0   0   0   0   0   0   0   0   0 255   0\n",
      "    0   0]\n",
      " [  0   0   0   0   0 255   0   0   0   0   0   0   0   0   0 255   0   0\n",
      "    0   0]\n",
      " [  0   0   0   0   0   0 255   0   0   0   0   0   0   0 255   0   0   0\n",
      "    0   0]\n",
      " [  0   0   0   0   0   0   0 255   0   0   0   0   0 255   0   0   0   0\n",
      "    0   0]\n",
      " [  0   0   0   0   0   0   0   0 255   0   0   0 255   0   0   0   0   0\n",
      "    0   0]\n",
      " [  0   0   0   0   0   0   0   0   0 255   0 255   0   0   0   0   0   0\n",
      "    0   0]\n",
      " [  0   0   0   0   0   0   0   0   0   0 255   0   0   0   0   0   0   0\n",
      "    0   0]\n",
      " [  0   0   0   0   0   0   0   0   0 255   0 255   0   0   0   0   0   0\n",
      "    0   0]\n",
      " [  0   0   0   0   0   0   0   0 255   0   0   0 255   0   0   0   0   0\n",
      "    0   0]\n",
      " [  0   0   0   0   0   0   0 255   0   0   0   0   0 255   0   0   0   0\n",
      "    0   0]\n",
      " [  0   0   0   0   0   0 255   0   0   0   0   0   0   0 255   0   0   0\n",
      "    0   0]\n",
      " [  0   0   0   0   0 255   0   0   0   0   0   0   0   0   0 255   0   0\n",
      "    0   0]\n",
      " [  0   0   0   0 255   0   0   0   0   0   0   0   0   0   0   0 255   0\n",
      "    0   0]\n",
      " [  0   0   0 255   0   0   0   0   0   0   0   0   0   0   0   0   0 255\n",
      "    0   0]\n",
      " [  0   0 255   0   0   0   0   0   0   0   0   0   0   0   0   0   0   0\n",
      "  255   0]\n",
      " [  0 255   0   0   0   0   0   0   0   0   0   0   0   0   0   0   0   0\n",
      "    0 255]]\n"
     ]
    }
   ],
   "source": [
    "print(matriz)"
   ]
  },
  {
   "cell_type": "code",
   "execution_count": 20,
   "id": "148c6abe",
   "metadata": {},
   "outputs": [
    {
     "name": "stdout",
     "output_type": "stream",
     "text": [
      "Collecting opencv-python\n",
      "  Downloading opencv_python-4.7.0.72-cp37-abi3-win_amd64.whl (38.2 MB)\n",
      "     ---------------------------------------- 38.2/38.2 MB 9.1 MB/s eta 0:00:00\n",
      "Requirement already satisfied: numpy>=1.17.0 in c:\\users\\londres31\\anaconda3\\lib\\site-packages (from opencv-python) (1.21.5)\n",
      "Installing collected packages: opencv-python\n",
      "Successfully installed opencv-python-4.7.0.72\n",
      "Note: you may need to restart the kernel to use updated packages.\n"
     ]
    }
   ],
   "source": [
    "pip install opencv-python"
   ]
  },
  {
   "cell_type": "code",
   "execution_count": 21,
   "id": "fa156f14",
   "metadata": {},
   "outputs": [
    {
     "data": {
      "text/plain": [
       "True"
      ]
     },
     "execution_count": 21,
     "metadata": {},
     "output_type": "execute_result"
    }
   ],
   "source": [
    "import cv2\n",
    "cv2.imwrite(\"diagonal_matrix.png\",matriz)"
   ]
  },
  {
   "cell_type": "code",
   "execution_count": null,
   "id": "1cb481a5",
   "metadata": {},
   "outputs": [],
   "source": []
  }
 ],
 "metadata": {
  "kernelspec": {
   "display_name": "Python 3 (ipykernel)",
   "language": "python",
   "name": "python3"
  },
  "language_info": {
   "codemirror_mode": {
    "name": "ipython",
    "version": 3
   },
   "file_extension": ".py",
   "mimetype": "text/x-python",
   "name": "python",
   "nbconvert_exporter": "python",
   "pygments_lexer": "ipython3",
   "version": "3.9.13"
  }
 },
 "nbformat": 4,
 "nbformat_minor": 5
}
