{
 "cells": [
  {
   "cell_type": "code",
   "execution_count": 1,
   "id": "c3894e93",
   "metadata": {},
   "outputs": [],
   "source": [
    "NUMEROS = 20\n",
    "inteiros = []\n",
    "pares = []\n",
    "impares = []\n"
   ]
  },
  {
   "cell_type": "code",
   "execution_count": 2,
   "id": "e04a5e64",
   "metadata": {},
   "outputs": [
    {
     "name": "stdout",
     "output_type": "stream",
     "text": [
      "Digite um inteiro: 10\n",
      "Digite um inteiro: 25\n",
      "Digite um inteiro: 30\n",
      "Digite um inteiro: 23\n",
      "Digite um inteiro: 5\n",
      "Digite um inteiro: 8\n",
      "Digite um inteiro: 37\n",
      "Digite um inteiro: 41\n",
      "Digite um inteiro: 42\n",
      "Digite um inteiro: 50\n",
      "Digite um inteiro: 23\n",
      "Digite um inteiro: 22\n",
      "Digite um inteiro: 15\n",
      "Digite um inteiro: 89\n",
      "Digite um inteiro: 40\n",
      "Digite um inteiro: 56\n",
      "Digite um inteiro: 89\n",
      "Digite um inteiro: 4\n",
      "Digite um inteiro: 3\n",
      "Digite um inteiro: 59\n"
     ]
    }
   ],
   "source": [
    "\n",
    "for i in range(NUMEROS):\n",
    "    numero = int(input(\"Digite um inteiro: \"))\n",
    "    inteiros.append(numero)\n",
    "    if numero % 2 == 0:\n",
    "        pares.append(numero)\n",
    "    else:\n",
    "        impares.append(numero)\n",
    "\n"
   ]
  },
  {
   "cell_type": "code",
   "execution_count": 3,
   "id": "336f67b7",
   "metadata": {},
   "outputs": [
    {
     "name": "stdout",
     "output_type": "stream",
     "text": [
      "\n",
      "Inteiros\n",
      "10 25 30 23 5 8 37 41 42 50 23 22 15 89 40 56 89 4 3 59 \n",
      "Pares\n",
      "10 30 8 42 50 22 40 56 4 \n",
      "Impares\n",
      "25 23 5 37 41 23 15 89 89 3 59 "
     ]
    }
   ],
   "source": [
    "print(\"\\nInteiros\")\n",
    "for numero in inteiros:\n",
    "    print(f\"{numero}\", end=\" \")\n",
    "\n",
    "print(\"\\nPares\")\n",
    "for numero in pares:\n",
    "    print(f\"{numero}\", end=\" \")\n",
    "\n",
    "print(\"\\nImpares\")\n",
    "for numero in impares:\n",
    "    print(f\"{numero}\", end=\" \")"
   ]
  },
  {
   "cell_type": "code",
   "execution_count": null,
   "id": "0b53c5eb",
   "metadata": {},
   "outputs": [],
   "source": []
  },
  {
   "cell_type": "code",
   "execution_count": null,
   "id": "05229124",
   "metadata": {},
   "outputs": [],
   "source": []
  },
  {
   "cell_type": "code",
   "execution_count": null,
   "id": "ce66e872",
   "metadata": {},
   "outputs": [],
   "source": []
  }
 ],
 "metadata": {
  "kernelspec": {
   "display_name": "Python 3 (ipykernel)",
   "language": "python",
   "name": "python3"
  },
  "language_info": {
   "codemirror_mode": {
    "name": "ipython",
    "version": 3
   },
   "file_extension": ".py",
   "mimetype": "text/x-python",
   "name": "python",
   "nbconvert_exporter": "python",
   "pygments_lexer": "ipython3",
   "version": "3.9.13"
  }
 },
 "nbformat": 4,
 "nbformat_minor": 5
}
