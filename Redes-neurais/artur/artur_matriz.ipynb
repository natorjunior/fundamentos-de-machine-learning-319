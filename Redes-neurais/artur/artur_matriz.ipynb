{
 "cells": [
  {
   "cell_type": "code",
   "execution_count": 58,
   "id": "14999372",
   "metadata": {},
   "outputs": [],
   "source": [
    "import numpy as np\n",
    "import pandas as pd\n",
    "import cv2\n"
   ]
  },
  {
   "cell_type": "code",
   "execution_count": 63,
   "id": "ac5c11c1",
   "metadata": {},
   "outputs": [
    {
     "name": "stdout",
     "output_type": "stream",
     "text": [
      "[[0 0 0 0 0 0 0 0 0 0 0 0 0 0 0 0 0 0 0 0]\n",
      " [0 0 0 0 0 0 0 0 0 0 0 0 0 0 0 0 0 0 0 0]\n",
      " [0 0 0 0 0 0 0 0 0 0 0 0 0 0 0 0 0 0 0 0]\n",
      " [0 0 0 0 0 0 0 0 0 0 0 0 0 0 0 0 0 0 0 0]\n",
      " [0 0 0 0 0 0 0 0 0 0 0 0 0 0 0 0 0 0 0 0]\n",
      " [0 0 0 0 0 0 0 0 0 0 0 0 0 0 0 0 0 0 0 0]\n",
      " [0 0 0 0 0 0 0 0 0 0 0 0 0 0 0 0 0 0 0 0]\n",
      " [0 0 0 0 0 0 0 0 0 0 0 0 0 0 0 0 0 0 0 0]\n",
      " [0 0 0 0 0 0 0 0 0 0 0 0 0 0 0 0 0 0 0 0]\n",
      " [0 0 0 0 0 0 0 0 0 0 0 0 0 0 0 0 0 0 0 0]\n",
      " [0 0 0 0 0 0 0 0 0 0 0 0 0 0 0 0 0 0 0 0]\n",
      " [0 0 0 0 0 0 0 0 0 0 0 0 0 0 0 0 0 0 0 0]\n",
      " [0 0 0 0 0 0 0 0 0 0 0 0 0 0 0 0 0 0 0 0]\n",
      " [0 0 0 0 0 0 0 0 0 0 0 0 0 0 0 0 0 0 0 0]\n",
      " [0 0 0 0 0 0 0 0 0 0 0 0 0 0 0 0 0 0 0 0]\n",
      " [0 0 0 0 0 0 0 0 0 0 0 0 0 0 0 0 0 0 0 0]\n",
      " [0 0 0 0 0 0 0 0 0 0 0 0 0 0 0 0 0 0 0 0]\n",
      " [0 0 0 0 0 0 0 0 0 0 0 0 0 0 0 0 0 0 0 0]\n",
      " [0 0 0 0 0 0 0 0 0 0 0 0 0 0 0 0 0 0 0 0]\n",
      " [0 0 0 0 0 0 0 0 0 0 0 0 0 0 0 0 0 0 0 0]]\n"
     ]
    },
    {
     "data": {
      "text/plain": [
       "numpy.ndarray"
      ]
     },
     "execution_count": 63,
     "metadata": {},
     "output_type": "execute_result"
    }
   ],
   "source": [
    "matriz = np.zeros((20,20),dtype=int)\n",
    "print(matriz)\n",
    "type(matriz)"
   ]
  },
  {
   "cell_type": "code",
   "execution_count": 60,
   "id": "c3dac5d8",
   "metadata": {},
   "outputs": [],
   "source": [
    "np.fill_diagonal(matriz,255) #preenche a diagonal principal\n",
    "np.fill_diagonal(np.fliplr(matriz), 255) #espelho a matriz e preencho a diagnoal principal novamente"
   ]
  },
  {
   "cell_type": "code",
   "execution_count": 61,
   "id": "c41f64ea",
   "metadata": {},
   "outputs": [
    {
     "name": "stdout",
     "output_type": "stream",
     "text": [
      "     0    1    2    3    4    5    6    7    8    9    10   11   12   13   14  \\\n",
      "0   255    0    0    0    0    0    0    0    0    0    0    0    0    0    0   \n",
      "1     0  255    0    0    0    0    0    0    0    0    0    0    0    0    0   \n",
      "2     0    0  255    0    0    0    0    0    0    0    0    0    0    0    0   \n",
      "3     0    0    0  255    0    0    0    0    0    0    0    0    0    0    0   \n",
      "4     0    0    0    0  255    0    0    0    0    0    0    0    0    0    0   \n",
      "5     0    0    0    0    0  255    0    0    0    0    0    0    0    0  255   \n",
      "6     0    0    0    0    0    0  255    0    0    0    0    0    0  255    0   \n",
      "7     0    0    0    0    0    0    0  255    0    0    0    0  255    0    0   \n",
      "8     0    0    0    0    0    0    0    0  255    0    0  255    0    0    0   \n",
      "9     0    0    0    0    0    0    0    0    0  255  255    0    0    0    0   \n",
      "10    0    0    0    0    0    0    0    0    0  255  255    0    0    0    0   \n",
      "11    0    0    0    0    0    0    0    0  255    0    0  255    0    0    0   \n",
      "12    0    0    0    0    0    0    0  255    0    0    0    0  255    0    0   \n",
      "13    0    0    0    0    0    0  255    0    0    0    0    0    0  255    0   \n",
      "14    0    0    0    0    0  255    0    0    0    0    0    0    0    0  255   \n",
      "15    0    0    0    0  255    0    0    0    0    0    0    0    0    0    0   \n",
      "16    0    0    0  255    0    0    0    0    0    0    0    0    0    0    0   \n",
      "17    0    0  255    0    0    0    0    0    0    0    0    0    0    0    0   \n",
      "18    0  255    0    0    0    0    0    0    0    0    0    0    0    0    0   \n",
      "19  255    0    0    0    0    0    0    0    0    0    0    0    0    0    0   \n",
      "\n",
      "     15   16   17   18   19  \n",
      "0     0    0    0    0  255  \n",
      "1     0    0    0  255    0  \n",
      "2     0    0  255    0    0  \n",
      "3     0  255    0    0    0  \n",
      "4   255    0    0    0    0  \n",
      "5     0    0    0    0    0  \n",
      "6     0    0    0    0    0  \n",
      "7     0    0    0    0    0  \n",
      "8     0    0    0    0    0  \n",
      "9     0    0    0    0    0  \n",
      "10    0    0    0    0    0  \n",
      "11    0    0    0    0    0  \n",
      "12    0    0    0    0    0  \n",
      "13    0    0    0    0    0  \n",
      "14    0    0    0    0    0  \n",
      "15  255    0    0    0    0  \n",
      "16    0  255    0    0    0  \n",
      "17    0    0  255    0    0  \n",
      "18    0    0    0  255    0  \n",
      "19    0    0    0    0  255  \n"
     ]
    }
   ],
   "source": [
    "#print(matriz)\n",
    "\n",
    "new_matriz = pd.DataFrame(matriz)\n",
    "\n",
    "print(new_matriz)"
   ]
  },
  {
   "cell_type": "code",
   "execution_count": 62,
   "id": "7d6ec51c",
   "metadata": {},
   "outputs": [
    {
     "data": {
      "text/plain": [
       "True"
      ]
     },
     "execution_count": 62,
     "metadata": {},
     "output_type": "execute_result"
    }
   ],
   "source": [
    "cv2.imwrite('matriz_artur.png',matriz)"
   ]
  },
  {
   "cell_type": "code",
   "execution_count": null,
   "id": "b241c74c",
   "metadata": {},
   "outputs": [],
   "source": []
  }
 ],
 "metadata": {
  "kernelspec": {
   "display_name": "Python 3 (ipykernel)",
   "language": "python",
   "name": "python3"
  },
  "language_info": {
   "codemirror_mode": {
    "name": "ipython",
    "version": 3
   },
   "file_extension": ".py",
   "mimetype": "text/x-python",
   "name": "python",
   "nbconvert_exporter": "python",
   "pygments_lexer": "ipython3",
   "version": "3.10.9"
  }
 },
 "nbformat": 4,
 "nbformat_minor": 5
}
