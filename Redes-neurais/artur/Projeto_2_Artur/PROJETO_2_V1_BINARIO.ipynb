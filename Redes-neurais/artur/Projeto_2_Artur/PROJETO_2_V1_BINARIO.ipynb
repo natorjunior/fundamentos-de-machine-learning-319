{
 "cells": [
  {
   "cell_type": "code",
   "execution_count": 1,
   "id": "303af491",
   "metadata": {},
   "outputs": [],
   "source": [
    "import cv2\n",
    "import glob\n",
    "import numpy as np\n",
    "from keras.models import Sequential\n",
    "from keras.layers import Dense, Conv2D, Flatten\n",
    "from keras.utils import to_categorical\n",
    "\n",
    "# Caminhos para os dados de treino\n",
    "#path_normal_train = \"C:/Users/Artur Vinicius/Documents/Python/chest_xray/train/NORMAL/*.jpeg\"\n",
    "#path_pneumonia_train = \"C:/Users/Artur Vinicius/Documents/Python/chest_xray/train/PNEUMONIA/*.jpeg\"\n",
    "path_total = \"C:/Users/Artur Vinicius/Documents/Python/chest_xray_v4/total_data/*.jpeg\"\n",
    "# Caminhos para os dados de teste\n",
    "#path_normal_test = \"C:/Users/Artur Vinicius/Documents/Python/chest_xray/test/NORMAL/*.jpeg\"\n",
    "#path_pneumonia_test = \"C:/Users/Artur Vinicius/Documents/Python/chest_xray/test/PNEUMONIA/*.jpeg\"\n",
    "\n",
    "# Dimensões desejadas para as imagens\n",
    "width = 128\n",
    "height = 128\n",
    "dim = (width, height)\n",
    "\n",
    "def load_image(path):\n",
    "    images = []\n",
    "    for file in glob.glob(path):\n",
    "        image = cv2.imread(file,cv2.IMREAD_GRAYSCALE)\n",
    "        #image = cv2.cvtColor(image, cv2.COLOR_BGR2GRAY)\n",
    "        resized_image = cv2.resize(image, dim)\n",
    "        images.append(resized_image/255)\n",
    "    return images\n"
   ]
  },
  {
   "cell_type": "code",
   "execution_count": 2,
   "id": "e706cb5e",
   "metadata": {},
   "outputs": [],
   "source": [
    "x_data = load_image(path_total)"
   ]
  },
  {
   "cell_type": "code",
   "execution_count": 10,
   "id": "a4754331",
   "metadata": {
    "collapsed": true
   },
   "outputs": [
    {
     "name": "stdout",
     "output_type": "stream",
     "text": [
      "[[0.14901961 0.12941177 0.10588235 ... 0.48235294 0.45490196 0.42745098]\n",
      " [0.14901961 0.13333334 0.10588235 ... 0.4862745  0.45882353 0.4117647 ]\n",
      " [0.16470589 0.12156863 0.10196079 ... 0.47843137 0.44313726 0.4117647 ]\n",
      " ...\n",
      " [0.16862746 0.14117648 0.14901961 ... 0.1254902  0.13725491 0.12156863]\n",
      " [0.16470589 0.16862746 0.16078432 ... 0.11372549 0.13333334 0.13725491]\n",
      " [0.15294118 0.12941177 0.16862746 ... 0.1254902  0.12941177 0.11372549]]\n"
     ]
    }
   ],
   "source": [
    "print(x_data[1])"
   ]
  },
  {
   "cell_type": "code",
   "execution_count": 3,
   "id": "2414a33b",
   "metadata": {},
   "outputs": [],
   "source": [
    "y_data = [] # Target\n",
    "string_bacteria = \"bacteria\"\n",
    "string_virus = \"virus\"\n",
    "\n",
    "for file_path in glob.glob(path_total):\n",
    "    file_name = file_path.split(\"/\")[-1]  # Extrair apenas o nome do arquivo\n",
    "    if (string_bacteria in file_name) or (string_virus in file_name):\n",
    "        y_data.append(1) # Rotular os RX com Pneumonia Bacteriana com 1\n",
    "    #lif string_virus in file_name:\n",
    "       # y_data.append(2) # Rotular os RX com Pneumonia Viral com 2\n",
    "    elif (string_bacteria not in file_name) and (string_virus not in file_name):\n",
    "        y_data.append(0) # Rotular os RX sem Pneumonia com o valor 0"
   ]
  },
  {
   "cell_type": "code",
   "execution_count": 4,
   "id": "80f014a5",
   "metadata": {},
   "outputs": [],
   "source": [
    "x_data = np.asarray(x_data).astype(np.float32)\n",
    "y_data = np.asarray(y_data).astype(np.float32)"
   ]
  },
  {
   "cell_type": "code",
   "execution_count": 18,
   "id": "df091f4c",
   "metadata": {},
   "outputs": [],
   "source": [
    "from sklearn.model_selection import train_test_split\n",
    "X_train, X_test, y_train, y_test = train_test_split(x_data, y_data, test_size=0.4, random_state=42)"
   ]
  },
  {
   "cell_type": "code",
   "execution_count": 19,
   "id": "a1bf5ecc",
   "metadata": {},
   "outputs": [],
   "source": [
    "# Definir o modelo\n",
    "from keras.layers import MaxPooling2D\n",
    "model = Sequential()\n",
    "model.add(Conv2D(32, (3, 3), padding=\"same\", activation=\"relu\", input_shape=(128,128,1)))\n",
    "model.add(MaxPooling2D(pool_size=(2, 2)))\n",
    "model.add(Conv2D(64, (3, 3), padding=\"same\", activation=\"relu\"))\n",
    "model.add(MaxPooling2D(pool_size=(2, 2)))\n",
    "model.add(Conv2D(128, (3, 3), padding=\"same\", activation=\"relu\"))\n",
    "model.add(MaxPooling2D(pool_size=(2, 2)))\n",
    "model.add(Flatten())\n",
    "model.add(Dense(2, activation='sigmoid'))\n",
    "model.compile(loss='categorical_crossentropy', optimizer='adam', metrics=['accuracy'])"
   ]
  },
  {
   "cell_type": "code",
   "execution_count": 20,
   "id": "0fd32f23",
   "metadata": {},
   "outputs": [
    {
     "name": "stdout",
     "output_type": "stream",
     "text": [
      "Epoch 1/10\n",
      "55/55 [==============================] - 14s 255ms/step - loss: 0.3847 - accuracy: 0.8301\n",
      "Epoch 2/10\n",
      "55/55 [==============================] - 14s 255ms/step - loss: 0.1695 - accuracy: 0.9362\n",
      "Epoch 3/10\n",
      "55/55 [==============================] - 14s 251ms/step - loss: 0.1597 - accuracy: 0.9365\n",
      "Epoch 4/10\n",
      "55/55 [==============================] - 14s 245ms/step - loss: 0.1290 - accuracy: 0.9510\n",
      "Epoch 5/10\n",
      "55/55 [==============================] - 14s 249ms/step - loss: 0.1313 - accuracy: 0.9522\n",
      "Epoch 6/10\n",
      "55/55 [==============================] - 14s 249ms/step - loss: 0.1187 - accuracy: 0.9582\n",
      "Epoch 7/10\n",
      "55/55 [==============================] - 14s 252ms/step - loss: 0.1096 - accuracy: 0.9576\n",
      "Epoch 8/10\n",
      "55/55 [==============================] - 14s 250ms/step - loss: 0.0928 - accuracy: 0.9670\n",
      "Epoch 9/10\n",
      "55/55 [==============================] - 14s 249ms/step - loss: 0.0819 - accuracy: 0.9695\n",
      "Epoch 10/10\n",
      "55/55 [==============================] - 14s 250ms/step - loss: 0.0983 - accuracy: 0.9619\n"
     ]
    },
    {
     "data": {
      "text/plain": [
       "<keras.callbacks.History at 0x21b1cfe0700>"
      ]
     },
     "execution_count": 20,
     "metadata": {},
     "output_type": "execute_result"
    }
   ],
   "source": [
    "# Treinar o modelo\n",
    "y_train = to_categorical(y_train)\n",
    "y_test = to_categorical(y_test)\n",
    "\n",
    "model.fit(X_train, y_train, batch_size=64, epochs=10, verbose=1)"
   ]
  },
  {
   "cell_type": "code",
   "execution_count": 21,
   "id": "e21abf2e",
   "metadata": {},
   "outputs": [
    {
     "name": "stdout",
     "output_type": "stream",
     "text": [
      "74/74 [==============================] - 4s 54ms/step\n"
     ]
    }
   ],
   "source": [
    "#y_test_categorical = to_categorical(y_test)\n",
    "\n",
    "y_pred = model.predict(X_test)"
   ]
  },
  {
   "cell_type": "code",
   "execution_count": 22,
   "id": "1ae5cccb",
   "metadata": {},
   "outputs": [
    {
     "name": "stdout",
     "output_type": "stream",
     "text": [
      "Accuracy: 0.9590268886043534\n",
      "Precision: 0.9458323289657271\n",
      "Recall: 0.954568572084646\n",
      "F1-score: 0.9500559552358114\n"
     ]
    }
   ],
   "source": [
    "from sklearn.metrics import accuracy_score, precision_score, recall_score, f1_score\n",
    "y_pred = np.argmax(y_pred, axis=1)\n",
    "y_test = np.argmax(y_test, axis=1)\n",
    "\n",
    "accuracy = accuracy_score(y_test, y_pred)\n",
    "precision = precision_score(y_test, y_pred, average='macro')\n",
    "recall = recall_score(y_test, y_pred, average='macro')\n",
    "f1 = f1_score(y_test, y_pred, average='macro')\n",
    "\n",
    "print('Accuracy:', accuracy)\n",
    "print('Precision:', precision)\n",
    "print('Recall:', recall)\n",
    "print('F1-score:', f1)"
   ]
  },
  {
   "cell_type": "code",
   "execution_count": null,
   "id": "4c58a111",
   "metadata": {},
   "outputs": [],
   "source": []
  }
 ],
 "metadata": {
  "kernelspec": {
   "display_name": "Python 3 (ipykernel)",
   "language": "python",
   "name": "python3"
  },
  "language_info": {
   "codemirror_mode": {
    "name": "ipython",
    "version": 3
   },
   "file_extension": ".py",
   "mimetype": "text/x-python",
   "name": "python",
   "nbconvert_exporter": "python",
   "pygments_lexer": "ipython3",
   "version": "3.10.9"
  }
 },
 "nbformat": 4,
 "nbformat_minor": 5
}
