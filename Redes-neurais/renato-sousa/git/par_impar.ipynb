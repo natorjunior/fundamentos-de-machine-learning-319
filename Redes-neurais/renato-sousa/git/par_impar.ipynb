{
 "cells": [
  {
   "cell_type": "code",
   "execution_count": 1,
   "metadata": {},
   "outputs": [],
   "source": [
    "import numpy as np"
   ]
  },
  {
   "cell_type": "code",
   "execution_count": 8,
   "metadata": {},
   "outputs": [
    {
     "name": "stdout",
     "output_type": "stream",
     "text": [
      "Os valores analisados são: [ 1.  2.  3.  4.  5.  6.  7.  8.  9. 10. 11. 12. 13. 14. 15. 16. 17. 18.\n",
      " 19. 20.]\n",
      "Os valores pares são: [2.0, 4.0, 6.0, 8.0, 10.0, 12.0, 14.0, 16.0, 18.0, 20.0]\n",
      "Os valores ímpares são: [1.0, 3.0, 5.0, 7.0, 9.0, 11.0, 13.0, 15.0, 17.0, 19.0]\n"
     ]
    }
   ],
   "source": [
    "z = np.linspace(1,20,20)\n",
    "par = []\n",
    "impar = []\n",
    "\n",
    "for i in z:\n",
    "    if i%2 == 0:\n",
    "        par.append(i)\n",
    "    else:\n",
    "        impar.append(i)\n",
    "    \n",
    "print(f'Os valores analisados são: {z}')\n",
    "print(f'Os valores pares são: {par}')\n",
    "print(f'Os valores ímpares são: {impar}')"
   ]
  }
 ],
 "metadata": {
  "kernelspec": {
   "display_name": "Python 3",
   "language": "python",
   "name": "python3"
  },
  "language_info": {
   "codemirror_mode": {
    "name": "ipython",
    "version": 3
   },
   "file_extension": ".py",
   "mimetype": "text/x-python",
   "name": "python",
   "nbconvert_exporter": "python",
   "pygments_lexer": "ipython3",
   "version": "3.9.13"
  },
  "orig_nbformat": 4
 },
 "nbformat": 4,
 "nbformat_minor": 2
}
