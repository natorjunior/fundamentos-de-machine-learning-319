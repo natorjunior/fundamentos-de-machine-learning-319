{
 "cells": [
  {
   "cell_type": "code",
   "execution_count": 27,
   "metadata": {},
   "outputs": [],
   "source": [
    "def somar(x,y):\n",
    "\n",
    "    import numpy as np\n",
    "    lista = []\n",
    "\n",
    "    for i in range(abs(y-x)):\n",
    "        lista.append(i)\n",
    "\n",
    "    soma_lista = np.sum(lista)\n",
    "    print(lista)\n",
    "    print(soma_lista)\n"
   ]
  },
  {
   "cell_type": "code",
   "execution_count": 30,
   "metadata": {},
   "outputs": [
    {
     "name": "stdout",
     "output_type": "stream",
     "text": [
      "[0, 1, 2, 3]\n",
      "6\n"
     ]
    }
   ],
   "source": [
    "somar(584,588)"
   ]
  }
 ],
 "metadata": {
  "kernelspec": {
   "display_name": "Python 3",
   "language": "python",
   "name": "python3"
  },
  "language_info": {
   "codemirror_mode": {
    "name": "ipython",
    "version": 3
   },
   "file_extension": ".py",
   "mimetype": "text/x-python",
   "name": "python",
   "nbconvert_exporter": "python",
   "pygments_lexer": "ipython3",
   "version": "3.9.13"
  },
  "orig_nbformat": 4
 },
 "nbformat": 4,
 "nbformat_minor": 2
}
