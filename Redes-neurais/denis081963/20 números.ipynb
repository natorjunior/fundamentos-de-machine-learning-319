{
 "cells": [
  {
   "cell_type": "code",
   "execution_count": 1,
   "id": "5d846c29",
   "metadata": {},
   "outputs": [
    {
     "name": "stdout",
     "output_type": "stream",
     "text": [
      "Digite um inteiro: 1\n",
      "Digite um inteiro: 2\n",
      "Digite um inteiro: 5\n",
      "Digite um inteiro: 4\n",
      "Digite um inteiro: 6\n",
      "Digite um inteiro: 7\n",
      "Digite um inteiro: 8\n",
      "Digite um inteiro: 99\n",
      "Digite um inteiro: 66\n",
      "Digite um inteiro: 55\n",
      "Digite um inteiro: 44\n",
      "Digite um inteiro: 23\n",
      "Digite um inteiro: 34\n",
      "Digite um inteiro: 34\n",
      "Digite um inteiro: 65\n",
      "Digite um inteiro: 76\n",
      "Digite um inteiro: 23\n",
      "Digite um inteiro: 44\n",
      "Digite um inteiro: 66\n",
      "Digite um inteiro: 78\n"
     ]
    }
   ],
   "source": [
    "NUMEROS = 20\n",
    "inteiros = []\n",
    "pares = []\n",
    "impares = []\n",
    "\n",
    "for i in range(NUMEROS):\n",
    "    numero = int(input(\"Digite um inteiro: \"))\n",
    "    inteiros.append(numero)\n",
    "    if numero % 2 == 0:\n",
    "        pares.append(numero)\n",
    "    else:\n",
    "        impares.append(numero)"
   ]
  },
  {
   "cell_type": "code",
   "execution_count": 2,
   "id": "8065e38d",
   "metadata": {},
   "outputs": [
    {
     "name": "stdout",
     "output_type": "stream",
     "text": [
      "\n",
      "Inteiros\n",
      "1 2 5 4 6 7 8 99 66 55 44 23 34 34 65 76 23 44 66 78 \n",
      "Pares\n",
      "2 4 6 8 66 44 34 34 76 44 66 78 \n",
      "Impares\n",
      "1 5 7 99 55 23 65 23 "
     ]
    }
   ],
   "source": [
    "print(\"\\nInteiros\")\n",
    "for numero in inteiros:\n",
    "    print(f\"{numero}\", end=\" \")\n",
    "\n",
    "print(\"\\nPares\")\n",
    "for numero in pares:\n",
    "    print(f\"{numero}\", end=\" \")\n",
    "\n",
    "print(\"\\nImpares\")\n",
    "for numero in impares:\n",
    "    print(f\"{numero}\", end=\" \")"
   ]
  },
  {
   "cell_type": "code",
   "execution_count": null,
   "id": "7ed8234d",
   "metadata": {},
   "outputs": [],
   "source": []
  }
 ],
 "metadata": {
  "kernelspec": {
   "display_name": "Python 3 (ipykernel)",
   "language": "python",
   "name": "python3"
  },
  "language_info": {
   "codemirror_mode": {
    "name": "ipython",
    "version": 3
   },
   "file_extension": ".py",
   "mimetype": "text/x-python",
   "name": "python",
   "nbconvert_exporter": "python",
   "pygments_lexer": "ipython3",
   "version": "3.9.13"
  }
 },
 "nbformat": 4,
 "nbformat_minor": 5
}
