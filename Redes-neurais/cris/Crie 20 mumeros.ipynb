{
 "cells": [
  {
   "cell_type": "code",
   "execution_count": 3,
   "id": "e0af0f3b",
   "metadata": {},
   "outputs": [
    {
     "name": "stdout",
     "output_type": "stream",
     "text": [
      "Digite um numero: 1\n",
      "Digite um numero: 2\n",
      "Digite um numero: 3\n",
      "Digite um numero: 4\n",
      "Digite um numero: 5\n",
      "Digite um numero: 6\n",
      "Digite um numero: 7\n",
      "Digite um numero: 8\n",
      "Digite um numero: 9\n",
      "Digite um numero: 10\n",
      "Digite um numero: 11\n",
      "Digite um numero: 12\n",
      "Digite um numero: 13\n",
      "Digite um numero: 14\n",
      "Digite um numero: 15\n",
      "Digite um numero: 16\n",
      "Digite um numero: 17\n",
      "Digite um numero: 18\n",
      "Digite um numero: 19\n",
      "Digite um numero: 20\n",
      "Vetor com 20 elementos: [1, 2, 3, 4, 5, 6, 7, 8, 9, 10, 11, 12, 13, 14, 15, 16, 17, 18, 19, 20]\n",
      "Vetor com elementos pares: [2, 4, 6, 8, 10, 12, 14, 16, 18, 20]\n",
      "Vetor com elementos impares: [1, 3, 5, 7, 9, 11, 13, 15, 17, 19]\n"
     ]
    }
   ],
   "source": [
    "vetor = []\n",
    "PAR = []\n",
    "IMPAR = []\n",
    "\n",
    "for numero in range(0, 20):\n",
    "    vetor.append(int(input(\"Digite um numero: \")))\n",
    "\n",
    "for numero in range(0, 20):\n",
    "    if vetor[numero] % 2 == 0:\n",
    "        PAR.append(vetor[numero])\n",
    "    else:\n",
    "        IMPAR.append(vetor[numero])\n",
    "\n",
    "print(\"Vetor com 20 elementos: \" + str(vetor))\n",
    "print(\"Vetor com elementos pares: \" + str(PAR))\n",
    "print(\"Vetor com elementos impares: \" + str(IMPAR))"
   ]
  },
  {
   "cell_type": "code",
   "execution_count": null,
   "id": "d4358595",
   "metadata": {},
   "outputs": [],
   "source": []
  }
 ],
 "metadata": {
  "kernelspec": {
   "display_name": "Python 3 (ipykernel)",
   "language": "python",
   "name": "python3"
  },
  "language_info": {
   "codemirror_mode": {
    "name": "ipython",
    "version": 3
   },
   "file_extension": ".py",
   "mimetype": "text/x-python",
   "name": "python",
   "nbconvert_exporter": "python",
   "pygments_lexer": "ipython3",
   "version": "3.9.13"
  }
 },
 "nbformat": 4,
 "nbformat_minor": 5
}
