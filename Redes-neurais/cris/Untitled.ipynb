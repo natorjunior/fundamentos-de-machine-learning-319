{
 "cells": [
  {
   "cell_type": "code",
   "execution_count": 38,
   "id": "72f35686",
   "metadata": {},
   "outputs": [],
   "source": [
    "import numpy as np\n",
    "\n",
    "\n",
    "matriz = np.zeros((18, 18), dtype=int)\n",
    "\n"
   ]
  },
  {
   "cell_type": "code",
   "execution_count": 39,
   "id": "16ca0bb4",
   "metadata": {},
   "outputs": [
    {
     "data": {
      "text/plain": [
       "array([[0, 0, 0, 0, 0, 0, 0, 0, 0, 0, 0, 0, 0, 0, 0, 0, 0, 0],\n",
       "       [0, 0, 0, 0, 0, 0, 0, 0, 0, 0, 0, 0, 0, 0, 0, 0, 0, 0],\n",
       "       [0, 0, 0, 0, 0, 0, 0, 0, 0, 0, 0, 0, 0, 0, 0, 0, 0, 0],\n",
       "       [0, 0, 0, 0, 0, 0, 0, 0, 0, 0, 0, 0, 0, 0, 0, 0, 0, 0],\n",
       "       [0, 0, 0, 0, 0, 0, 0, 0, 0, 0, 0, 0, 0, 0, 0, 0, 0, 0],\n",
       "       [0, 0, 0, 0, 0, 0, 0, 0, 0, 0, 0, 0, 0, 0, 0, 0, 0, 0],\n",
       "       [0, 0, 0, 0, 0, 0, 0, 0, 0, 0, 0, 0, 0, 0, 0, 0, 0, 0],\n",
       "       [0, 0, 0, 0, 0, 0, 0, 0, 0, 0, 0, 0, 0, 0, 0, 0, 0, 0],\n",
       "       [0, 0, 0, 0, 0, 0, 0, 0, 0, 0, 0, 0, 0, 0, 0, 0, 0, 0],\n",
       "       [0, 0, 0, 0, 0, 0, 0, 0, 0, 0, 0, 0, 0, 0, 0, 0, 0, 0],\n",
       "       [0, 0, 0, 0, 0, 0, 0, 0, 0, 0, 0, 0, 0, 0, 0, 0, 0, 0],\n",
       "       [0, 0, 0, 0, 0, 0, 0, 0, 0, 0, 0, 0, 0, 0, 0, 0, 0, 0],\n",
       "       [0, 0, 0, 0, 0, 0, 0, 0, 0, 0, 0, 0, 0, 0, 0, 0, 0, 0],\n",
       "       [0, 0, 0, 0, 0, 0, 0, 0, 0, 0, 0, 0, 0, 0, 0, 0, 0, 0],\n",
       "       [0, 0, 0, 0, 0, 0, 0, 0, 0, 0, 0, 0, 0, 0, 0, 0, 0, 0],\n",
       "       [0, 0, 0, 0, 0, 0, 0, 0, 0, 0, 0, 0, 0, 0, 0, 0, 0, 0],\n",
       "       [0, 0, 0, 0, 0, 0, 0, 0, 0, 0, 0, 0, 0, 0, 0, 0, 0, 0],\n",
       "       [0, 0, 0, 0, 0, 0, 0, 0, 0, 0, 0, 0, 0, 0, 0, 0, 0, 0]])"
      ]
     },
     "execution_count": 39,
     "metadata": {},
     "output_type": "execute_result"
    }
   ],
   "source": [
    "matriz\n"
   ]
  },
  {
   "cell_type": "code",
   "execution_count": 40,
   "id": "3d637f69",
   "metadata": {},
   "outputs": [],
   "source": [
    "for i in range(18):\n",
    "    matriz[i,i]=255\n",
    "    matriz[i,-i-1]=255"
   ]
  },
  {
   "cell_type": "code",
   "execution_count": 41,
   "id": "a51ab151",
   "metadata": {},
   "outputs": [
    {
     "name": "stdout",
     "output_type": "stream",
     "text": [
      "[[255   0   0   0   0   0   0   0   0   0   0   0   0   0   0   0   0 255]\n",
      " [  0 255   0   0   0   0   0   0   0   0   0   0   0   0   0   0 255   0]\n",
      " [  0   0 255   0   0   0   0   0   0   0   0   0   0   0   0 255   0   0]\n",
      " [  0   0   0 255   0   0   0   0   0   0   0   0   0   0 255   0   0   0]\n",
      " [  0   0   0   0 255   0   0   0   0   0   0   0   0 255   0   0   0   0]\n",
      " [  0   0   0   0   0 255   0   0   0   0   0   0 255   0   0   0   0   0]\n",
      " [  0   0   0   0   0   0 255   0   0   0   0 255   0   0   0   0   0   0]\n",
      " [  0   0   0   0   0   0   0 255   0   0 255   0   0   0   0   0   0   0]\n",
      " [  0   0   0   0   0   0   0   0 255 255   0   0   0   0   0   0   0   0]\n",
      " [  0   0   0   0   0   0   0   0 255 255   0   0   0   0   0   0   0   0]\n",
      " [  0   0   0   0   0   0   0 255   0   0 255   0   0   0   0   0   0   0]\n",
      " [  0   0   0   0   0   0 255   0   0   0   0 255   0   0   0   0   0   0]\n",
      " [  0   0   0   0   0 255   0   0   0   0   0   0 255   0   0   0   0   0]\n",
      " [  0   0   0   0 255   0   0   0   0   0   0   0   0 255   0   0   0   0]\n",
      " [  0   0   0 255   0   0   0   0   0   0   0   0   0   0 255   0   0   0]\n",
      " [  0   0 255   0   0   0   0   0   0   0   0   0   0   0   0 255   0   0]\n",
      " [  0 255   0   0   0   0   0   0   0   0   0   0   0   0   0   0 255   0]\n",
      " [255   0   0   0   0   0   0   0   0   0   0   0   0   0   0   0   0 255]]\n"
     ]
    }
   ],
   "source": [
    "print (matriz)"
   ]
  },
  {
   "cell_type": "code",
   "execution_count": 42,
   "id": "9e44d930",
   "metadata": {},
   "outputs": [
    {
     "ename": "ModuleNotFoundError",
     "evalue": "No module named 'cv2'",
     "output_type": "error",
     "traceback": [
      "\u001b[1;31m---------------------------------------------------------------------------\u001b[0m",
      "\u001b[1;31mModuleNotFoundError\u001b[0m                       Traceback (most recent call last)",
      "\u001b[1;32m~\\AppData\\Local\\Temp\\ipykernel_1120\\1253781749.py\u001b[0m in \u001b[0;36m<module>\u001b[1;34m\u001b[0m\n\u001b[1;32m----> 1\u001b[1;33m \u001b[1;32mimport\u001b[0m \u001b[0mcv2\u001b[0m\u001b[1;33m\u001b[0m\u001b[1;33m\u001b[0m\u001b[0m\n\u001b[0m\u001b[0;32m      2\u001b[0m \u001b[0mcv2\u001b[0m\u001b[1;33m.\u001b[0m\u001b[0mimwrite\u001b[0m\u001b[1;33m(\u001b[0m\u001b[1;34m\"imagem.png\"\u001b[0m\u001b[1;33m,\u001b[0m\u001b[0mmatriz\u001b[0m\u001b[1;33m)\u001b[0m\u001b[1;33m\u001b[0m\u001b[1;33m\u001b[0m\u001b[0m\n",
      "\u001b[1;31mModuleNotFoundError\u001b[0m: No module named 'cv2'"
     ]
    }
   ],
   "source": [
    "import cv2\n",
    "cv2.imwrite(\"imagem.png\",matriz)"
   ]
  },
  {
   "cell_type": "code",
   "execution_count": 43,
   "id": "780f84d8",
   "metadata": {},
   "outputs": [
    {
     "name": "stdout",
     "output_type": "stream",
     "text": [
      "Collecting opencv-python\n",
      "  Downloading opencv_python-4.7.0.72-cp37-abi3-win_amd64.whl (38.2 MB)\n",
      "     ---------------------------------------- 38.2/38.2 MB 9.1 MB/s eta 0:00:00\n",
      "Requirement already satisfied: numpy>=1.17.3 in c:\\users\\londres31\\anaconda3\\lib\\site-packages (from opencv-python) (1.21.5)\n",
      "Installing collected packages: opencv-python\n",
      "Successfully installed opencv-python-4.7.0.72\n",
      "Note: you may need to restart the kernel to use updated packages.\n"
     ]
    }
   ],
   "source": [
    "pip install opencv-python\n"
   ]
  },
  {
   "cell_type": "code",
   "execution_count": 45,
   "id": "684d44ce",
   "metadata": {},
   "outputs": [
    {
     "data": {
      "text/plain": [
       "True"
      ]
     },
     "execution_count": 45,
     "metadata": {},
     "output_type": "execute_result"
    }
   ],
   "source": [
    "import cv2\n",
    "cv2.imwrite(\"imagem.png\",matriz)"
   ]
  },
  {
   "cell_type": "code",
   "execution_count": null,
   "id": "0c29df75",
   "metadata": {},
   "outputs": [],
   "source": []
  }
 ],
 "metadata": {
  "kernelspec": {
   "display_name": "Python 3 (ipykernel)",
   "language": "python",
   "name": "python3"
  },
  "language_info": {
   "codemirror_mode": {
    "name": "ipython",
    "version": 3
   },
   "file_extension": ".py",
   "mimetype": "text/x-python",
   "name": "python",
   "nbconvert_exporter": "python",
   "pygments_lexer": "ipython3",
   "version": "3.9.13"
  }
 },
 "nbformat": 4,
 "nbformat_minor": 5
}
